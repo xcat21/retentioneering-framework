{
 "cells": [
  {
   "cell_type": "markdown",
   "metadata": {},
   "source": [
    "# Description"
   ]
  },
  {
   "cell_type": "markdown",
   "metadata": {},
   "source": [
    "__Goal__\n",
    "\n",
    "Our goal is to detect interface elements / screens of an app at which users' engagement drops significantly and induce them to leave the app without account registration.\n",
    "\n",
    "__Tasks__\n",
    "\n",
    "1. Collect data\n",
    "2. Prepare data \n",
    "3. Analyze data\n",
    "    1. Build pivot tables\n",
    "    2. Visualize users path in the app\n",
    "    3. Build the classifier\n",
    "        1. Classifier helps you to pick out specific users paths\n",
    "        2. Classifier allows to estimate the probability of user's leaving from the app based on his current path. One can use this information to dynamically change the content of the app to prevent from that.\n",
    "        \n",
    "\n",
    "__Expected results__\n",
    "\n",
    "1. One will identify the most \"problematic\" elements of an app\n",
    "2. One will get the classifier which will allow you to predict user's leaving from the app based on current user's behaviour"
   ]
  },
  {
   "cell_type": "markdown",
   "metadata": {},
   "source": [
    "# Download data"
   ]
  },
  {
   "cell_type": "code",
   "execution_count": 2,
   "metadata": {},
   "outputs": [],
   "source": [
    "import os\n",
    "from retentioneering import utils, init_from_file, Config"
   ]
  },
  {
   "cell_type": "markdown",
   "metadata": {},
   "source": [
    "Firstly, we need to load a google cloud credentials."
   ]
  },
  {
   "cell_type": "code",
   "execution_count": 4,
   "metadata": {},
   "outputs": [],
   "source": [
    "client, job_config = init_from_file('./settings_yaml.yaml')\n",
    "settings = Config('./settings_yaml.yaml')"
   ]
  },
  {
   "cell_type": "markdown",
   "metadata": {},
   "source": [
    "Execute the query:\n",
    "\n",
    "* user_filter_event_names -- users filter: takes only users who had that event\n",
    "* dates_users -- dates where user_filter_event_names was happen\n",
    "* users_app_version -- filter on app's version\n",
    "* event_filter_event_names -- events of our interest\n",
    "* dates_events -- time period of analysis\n",
    "* count_events -- number of events for user"
   ]
  },
  {
   "cell_type": "code",
   "execution_count": null,
   "metadata": {},
   "outputs": [],
   "source": [
    "# df = download_events(\n",
    "#     client,\n",
    "#     job_config=job_config,\n",
    "#     user_filter_event_names=[u'first_open'],\n",
    "#     users_app_version='7.4.2', \n",
    "#     event_filter_event_names=[u'screen_view',\n",
    "#                               u'myFlights_add',\n",
    "#                               u'myFlights_edit',\n",
    "#                               u'myFlights_refresh',\n",
    "#                               u'profile_edit_close',\n",
    "#                               u'tabbar_select_page',\n",
    "#                               u'welcome_see_screen',\n",
    "#                               u'feed_widget_present',\n",
    "#                               u'welcome_login_google',\n",
    "#                               u'welcome_login_tripit',\n",
    "#                               u'welcome__loginFailure',\n",
    "#                               u'feed_ad_canBePresented',\n",
    "#                               u'myFlights_connectEmail',\n",
    "#                               u'myFlights_swipe_action',\n",
    "#                               u'newFlight_myflights_see',\n",
    "#                               u'welcome__chooseLoginType',\n",
    "#                               u'welcome_otherLogin__show',\n",
    "#                               u'newFlight_awardwallet_see',\n",
    "#                               u'welcome_otherLogin__close',\n",
    "#                               u'welcome_login_google_cancel',\n",
    "#                               u'welcome_privacy_policyShown',\n",
    "#                               u'welcome_privacy_policyShown',\n",
    "#                               u'welcome_privacy_policyDecline',\n",
    "#                               u'welcome_privacy_policyDecline',\n",
    "#                               u'welcome_privacy_policyAccepted',\n",
    "#                               u'welcome_privacy_policyAccepted',\n",
    "#                               u'welcome_privacy_policyTapToPolicy',\n",
    "#                               u'feed_widget_aircraft_amenities_saw',\n",
    "#                               u'welcome_otherLogin__chooseLoginType',\n",
    "#                               u'feed_widget_aircraft_noAircraftImage',\n",
    "#                               u'welcome_otherLogin_privacy_policyShown',\n",
    "#                               u'welcome_otherLogin_privacy_policyShown',\n",
    "#                               u'welcome_otherLogin_privacy_policyDecline',\n",
    "#                               u'welcome_otherLogin_privacy_policyDecline',\n",
    "#                               u'welcome_otherLogin_privacy_policyAccepted'], \n",
    "#     dates_users=(u'2018-10-01', u'2018-10-01'), \n",
    "#     dates_events=(u'2018-10-01', u'2018-10-01'), \n",
    "#     count_events=40, \n",
    "#     return_dataframe=True\n",
    "# )"
   ]
  },
  {
   "cell_type": "code",
   "execution_count": null,
   "metadata": {},
   "outputs": [],
   "source": [
    "settings['sql']"
   ]
  },
  {
   "cell_type": "markdown",
   "metadata": {},
   "source": [
    "Or we can put all of it in `settings['sql']` (you can see example in current directory) and execute query with it"
   ]
  },
  {
   "cell_type": "code",
   "execution_count": 8,
   "metadata": {
    "scrolled": true
   },
   "outputs": [
    {
     "name": "stderr",
     "output_type": "stream",
     "text": [
      "100%|██████████| 503589/503589 [00:54<00:00, 9223.56it/s]  \n"
     ]
    },
    {
     "name": "stdout",
     "output_type": "stream",
     "text": [
      "Downloaded DataFrame shape: (503589, 12)\n"
     ]
    }
   ],
   "source": [
    "df = utils.download_events_multi(client, job_config=job_config, settings=settings)\n",
    "print ('Downloaded DataFrame shape: {}'.format(df.shape))"
   ]
  },
  {
   "cell_type": "markdown",
   "metadata": {},
   "source": [
    "#### Prepare your dataset for further analysis"
   ]
  },
  {
   "cell_type": "code",
   "execution_count": 10,
   "metadata": {
    "scrolled": true
   },
   "outputs": [
    {
     "name": "stdout",
     "output_type": "stream",
     "text": [
      "Started DataFrame shape: (503589, 12)\n",
      "DataFrame shape after user filters: (474403, 12)\n",
      "DataFrame shape after event filters: (186082, 12)\n",
      "DataFrame shape after drop duplicated events: (52090, 12)\n",
      "DataFrame shape after adding passed events: (31281, 12)\n",
      "DataFrame shape after adding lost events: (33338, 12)\n"
     ]
    }
   ],
   "source": [
    "# select target users from settings['users']\n",
    "print ('Started DataFrame shape: {}'.format(df.shape))\n",
    "df = utils.preparing.filter_users(df, settings=settings)\n",
    "print ('DataFrame shape after user filters: {}'.format(df.shape))\n",
    "\n",
    "# delete events from settings['events']\n",
    "df = utils.preparing.filter_events(df, settings=settings)\n",
    "print ('DataFrame shape after event filters: {}'.format(df.shape))\n",
    "\n",
    "# drop duplicated events hapenning during settings['events']['duplicate_thr_time']\n",
    "df = utils.preparing.drop_duplicated_events(df, settings=settings)\n",
    "print ('DataFrame shape after drop duplicated events: {}'.format(df.shape))\n",
    "\n",
    "# add passed events from settings['positive_event']\n",
    "df = utils.preparing.add_passed_event(df, settings=settings)\n",
    "print ('DataFrame shape after adding passed events: {}'.format(df.shape))\n",
    "\n",
    "# add lost events from settings['negative_event']\n",
    "df = utils.preparing.add_lost_events(df, settings=settings)\n",
    "print ('DataFrame shape after adding lost events: {}'.format(df.shape))"
   ]
  },
  {
   "cell_type": "markdown",
   "metadata": {},
   "source": [
    "#### Look at first 5 records in prepared dataset"
   ]
  },
  {
   "cell_type": "markdown",
   "metadata": {},
   "source": [
    "#### Save DataFrame if needed"
   ]
  },
  {
   "cell_type": "code",
   "execution_count": null,
   "metadata": {},
   "outputs": [],
   "source": [
    "directory = '../../data' \n",
    "if not os.path.exists(directory):\n",
    "    os.makedirs(directory)"
   ]
  },
  {
   "cell_type": "code",
   "execution_count": null,
   "metadata": {},
   "outputs": [],
   "source": [
    "# choose your path\n",
    "path = '../../data/data_from_bq.csv'\n",
    "df.to_csv(path, sep=';', index=False)"
   ]
  },
  {
   "cell_type": "markdown",
   "metadata": {},
   "source": [
    "# Analysis"
   ]
  },
  {
   "cell_type": "markdown",
   "metadata": {},
   "source": [
    "Now we are ready for data analysis"
   ]
  },
  {
   "cell_type": "code",
   "execution_count": null,
   "metadata": {},
   "outputs": [],
   "source": [
    "import pandas as pd\n",
    "path = '../../data/data_from_bq.csv'\n",
    "df = pd.read_csv(path, sep=';')"
   ]
  },
  {
   "cell_type": "markdown",
   "metadata": {},
   "source": [
    "## Ad-hoc"
   ]
  },
  {
   "cell_type": "code",
   "execution_count": null,
   "metadata": {},
   "outputs": [],
   "source": [
    "from retentioneering import analysis"
   ]
  },
  {
   "cell_type": "markdown",
   "metadata": {},
   "source": [
    "#### Pivot tables of event distribution by user steps"
   ]
  },
  {
   "cell_type": "code",
   "execution_count": null,
   "metadata": {},
   "outputs": [],
   "source": [
    "desc = analysis.get_desc_table(df, settings=settings, plot=True)"
   ]
  },
  {
   "cell_type": "markdown",
   "metadata": {},
   "source": [
    "In rows of the table there are serial numbers of the user's steps from the user path.\n",
    "In columns of the table there are events themselves.\n",
    "\n",
    "In cells you will see the probability of user's choice event at every step.\n",
    "\n",
    "It's difficult to make complicate analysis from that table so we should split our users to those who leave the app and those who passed on."
   ]
  },
  {
   "cell_type": "markdown",
   "metadata": {},
   "source": [
    "We can split data into `lost` and `passed` users to compare behaviour "
   ]
  },
  {
   "cell_type": "code",
   "execution_count": null,
   "metadata": {
    "scrolled": false
   },
   "outputs": [],
   "source": [
    "lost_users_list = df[df.event_name == 'lost'].user_pseudo_id\n",
    "filt = df.user_pseudo_id.isin(lost_users_list)\n",
    "df_lost = df[filt]\n",
    "df_passed = df[~filt]\n",
    "\n",
    "desc_loss = analysis.get_desc_table(df_lost, settings, plot=True)"
   ]
  },
  {
   "cell_type": "code",
   "execution_count": null,
   "metadata": {},
   "outputs": [],
   "source": [
    "desc_passed = analysis.get_desc_table(df_passed,  settings, plot=True)"
   ]
  },
  {
   "cell_type": "markdown",
   "metadata": {},
   "source": [
    "And plot a heatmap of differences"
   ]
  },
  {
   "cell_type": "code",
   "execution_count": null,
   "metadata": {
    "scrolled": false
   },
   "outputs": [],
   "source": [
    "diff_df = analysis.get_diff(desc_loss, desc_passed, settings=settings, precalc=True)"
   ]
  },
  {
   "cell_type": "markdown",
   "metadata": {},
   "source": [
    "We can aggregate edges data"
   ]
  },
  {
   "cell_type": "code",
   "execution_count": null,
   "metadata": {},
   "outputs": [],
   "source": [
    "agg_list = ['trans_count', 'dt_mean', 'dt_median', 'dt_min', 'dt_max']\n",
    "df_agg = analysis.get_all_agg(df, agg_list)\n",
    "df_agg.head()"
   ]
  },
  {
   "cell_type": "markdown",
   "metadata": {},
   "source": [
    "We can see which transitions take the most time and how often people have use different transitions.\n",
    "\n",
    "We can choose the longest 10 user's path."
   ]
  },
  {
   "cell_type": "code",
   "execution_count": null,
   "metadata": {},
   "outputs": [],
   "source": [
    "df_agg.sort_values('trans_count', ascending=False).head(10)"
   ]
  },
  {
   "cell_type": "markdown",
   "metadata": {},
   "source": [
    "You can see events in which users spend most of the time. It seems reasonable to analyze only popular events to get stable results"
   ]
  },
  {
   "cell_type": "markdown",
   "metadata": {},
   "source": [
    "Adjacency matrix from it"
   ]
  },
  {
   "cell_type": "code",
   "execution_count": null,
   "metadata": {
    "scrolled": false
   },
   "outputs": [],
   "source": [
    "adj_count = analysis.get_adjacency(df_agg, 'trans_count')\n",
    "adj_count"
   ]
  },
  {
   "cell_type": "markdown",
   "metadata": {},
   "source": [
    "Also one can clusterize users by events' frequency choice"
   ]
  },
  {
   "cell_type": "code",
   "execution_count": null,
   "metadata": {},
   "outputs": [],
   "source": [
    "countmap = analysis.utils.plot_frequency_map(df, settings)"
   ]
  },
  {
   "cell_type": "code",
   "execution_count": null,
   "metadata": {},
   "outputs": [],
   "source": [
    "analysis.utils.plot_clusters(df, countmap, n_clusters=5, plot_cnt=2)"
   ]
  },
  {
   "cell_type": "markdown",
   "metadata": {},
   "source": [
    "Visualization of these groups in Lost classifier section below"
   ]
  },
  {
   "cell_type": "markdown",
   "metadata": {},
   "source": [
    "# Graph visualization"
   ]
  },
  {
   "cell_type": "markdown",
   "metadata": {},
   "source": [
    "Visualize your graph in python"
   ]
  },
  {
   "cell_type": "code",
   "execution_count": null,
   "metadata": {
    "scrolled": false
   },
   "outputs": [],
   "source": [
    "analysis.utils.plot_graph_python(df_agg, 'trans_count', settings)"
   ]
  },
  {
   "cell_type": "markdown",
   "metadata": {},
   "source": [
    "Or with our api\n",
    "\n",
    "`Api sends aggregated graph to our server for visualization`"
   ]
  },
  {
   "cell_type": "code",
   "execution_count": null,
   "metadata": {
    "scrolled": false
   },
   "outputs": [],
   "source": [
    "from retentioneering.visualization.plot import plot_graph_api\n",
    "plot_graph_api(df_lost, settings)"
   ]
  },
  {
   "cell_type": "markdown",
   "metadata": {},
   "source": [
    "# Lost/not-lost classifier"
   ]
  },
  {
   "cell_type": "markdown",
   "metadata": {},
   "source": [
    "Fit the model"
   ]
  },
  {
   "cell_type": "code",
   "execution_count": null,
   "metadata": {},
   "outputs": [],
   "source": [
    "clf = analysis.Model(df, target_event='lost', settings=settings)\n",
    "clf.fit_model()"
   ]
  },
  {
   "cell_type": "markdown",
   "metadata": {},
   "source": [
    "Get simple access to your quality metrics"
   ]
  },
  {
   "cell_type": "code",
   "execution_count": null,
   "metadata": {
    "scrolled": true
   },
   "outputs": [],
   "source": [
    "print ('ROC-AUC: {:.2f}'.format(clf.average_precision_score))\n",
    "print ('PR-AUC: {:.2f}'.format(clf.roc_auc_score))"
   ]
  },
  {
   "cell_type": "markdown",
   "metadata": {},
   "source": [
    "Predict probabilities for a certain user"
   ]
  },
  {
   "cell_type": "code",
   "execution_count": null,
   "metadata": {},
   "outputs": [],
   "source": [
    "# first we need to aggregate events by a user\n",
    "data = analysis.prepare_dataset(df, target_event='lost')\n",
    "# now we can predict probability for her track\n",
    "vec = clf._get_vectors(data.event_name.iloc[:1])\n",
    "clf.predict_proba(vec)"
   ]
  },
  {
   "cell_type": "markdown",
   "metadata": {},
   "source": [
    "Visualize t-sne projection of events vs targets"
   ]
  },
  {
   "cell_type": "code",
   "execution_count": null,
   "metadata": {},
   "outputs": [],
   "source": [
    "clf.plot_projections()"
   ]
  },
  {
   "cell_type": "markdown",
   "metadata": {},
   "source": [
    "Or vs probability from model"
   ]
  },
  {
   "cell_type": "code",
   "execution_count": null,
   "metadata": {},
   "outputs": [],
   "source": [
    "clf.plot_projections(sample=data.event_name.values, ids=data.user_pseudo_id.values)"
   ]
  },
  {
   "cell_type": "markdown",
   "metadata": {},
   "source": [
    "Select cluster of interest with bbox and visualize trajectories for it"
   ]
  },
  {
   "cell_type": "code",
   "execution_count": null,
   "metadata": {
    "scrolled": false
   },
   "outputs": [],
   "source": [
    "# write coordinates bbox angles\n",
    "\n",
    "bbox = [\n",
    "    [-4, -12],\n",
    "    [8, -26]\n",
    "]\n",
    "\n",
    "clf.plot_cluster_track(bbox)"
   ]
  },
  {
   "cell_type": "code",
   "execution_count": null,
   "metadata": {
    "scrolled": false
   },
   "outputs": [],
   "source": [
    "from matplotlib import pyplot as plt\n",
    "fig = plt.figure(figsize=[10, 10])\n",
    "plt.scatter(clf._cached_tsne[:, 0], clf._cached_tsne[:, 1], c=clf.target)\n",
    "plt.grid()\n",
    "plt.title('TSNE over Tf-Idf transform of user tracks')"
   ]
  },
  {
   "cell_type": "markdown",
   "metadata": {},
   "source": [
    "Highlight major nodes and edges with our api"
   ]
  }
 ],
 "metadata": {
  "kernelspec": {
   "display_name": "ret_py36",
   "language": "python",
   "name": "ret_py36"
  },
  "language_info": {
   "codemirror_mode": {
    "name": "ipython",
    "version": 3
   },
   "file_extension": ".py",
   "mimetype": "text/x-python",
   "name": "python",
   "nbconvert_exporter": "python",
   "pygments_lexer": "ipython3",
   "version": "3.6.7"
  }
 },
 "nbformat": 4,
 "nbformat_minor": 2
}
