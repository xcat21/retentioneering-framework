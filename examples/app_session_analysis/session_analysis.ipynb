{
 "cells": [
  {
   "cell_type": "markdown",
   "metadata": {},
   "source": [
    "# Data prepation"
   ]
  },
  {
   "cell_type": "code",
   "execution_count": null,
   "metadata": {},
   "outputs": [],
   "source": [
    "import pandas as pd\n",
    "import numpy as np\n",
    "import hdbscan\n",
    "from sklearn.mixture import GaussianMixture\n",
    "from retentioneering import init_client\n",
    "from retentioneering import utils, analysis, visualization, preparing"
   ]
  },
  {
   "cell_type": "markdown",
   "metadata": {},
   "source": [
    "### Download events"
   ]
  },
  {
   "cell_type": "markdown",
   "metadata": {},
   "source": [
    "Load data from CSV file. \n",
    "\n",
    "The table should have at least 3 columns:\n",
    "- 'event_name',\n",
    "- 'event_timestamp',\n",
    "- 'user_pseudo_id'."
   ]
  },
  {
   "cell_type": "code",
   "execution_count": null,
   "metadata": {},
   "outputs": [],
   "source": [
    "data = pd.read_csv('/path/to/your/data.csv')"
   ]
  },
  {
   "cell_type": "markdown",
   "metadata": {},
   "source": [
    "We divide the events of each user on sessions.\n",
    "\n",
    "In this case, the session column will be added to the input table, which contains the number of the session the event belongs to."
   ]
  },
  {
   "cell_type": "code",
   "execution_count": null,
   "metadata": {},
   "outputs": [],
   "source": [
    "model = preparing.SessionSplitter(n_components=3)\n",
    "model.fit(data, columns_config = {'event_name_col': 'event_name',\n",
    "                                  'event_timestamp_col': 'event_timestamp',\n",
    "                                  'user_id_col': 'user_pseudo_id'})\n",
    "data = model.predict(data, thr_prob=0.95, sort=True)"
   ]
  },
  {
   "cell_type": "code",
   "execution_count": null,
   "metadata": {},
   "outputs": [],
   "source": [
    "data.head(2)"
   ]
  },
  {
   "cell_type": "markdown",
   "metadata": {},
   "source": [
    "### Donwload target events for each mechanic"
   ]
  },
  {
   "cell_type": "markdown",
   "metadata": {},
   "source": [
    "We load the mechanics and all key events for each.\n",
    "\n",
    "The table must contain the mechanic's id (name) and an event column for that mechanic."
   ]
  },
  {
   "cell_type": "code",
   "execution_count": null,
   "metadata": {},
   "outputs": [],
   "source": [
    "mechanics = pd.read_csv('/path/to/your/mechanics.csv')\n",
    "mechanics['id'] = mechanics['id'].ffill()\n",
    "mechanics = mechanics[mechanics.Events.notnull()]"
   ]
  },
  {
   "cell_type": "code",
   "execution_count": null,
   "metadata": {
    "scrolled": true
   },
   "outputs": [],
   "source": [
    "mechanics.head(2)"
   ]
  },
  {
   "cell_type": "markdown",
   "metadata": {},
   "source": [
    "### Enrich mechanics with new events"
   ]
  },
  {
   "cell_type": "markdown",
   "metadata": {},
   "source": [
    "We use a function that selects all the events related to a particular mechanics from your source data."
   ]
  },
  {
   "cell_type": "code",
   "execution_count": null,
   "metadata": {},
   "outputs": [],
   "source": [
    "mechanics_events = analysis.mechanics_enrichment(data, mechanics, 'id', 'Events', q=.99, q2=.99)"
   ]
  },
  {
   "cell_type": "code",
   "execution_count": null,
   "metadata": {},
   "outputs": [],
   "source": [
    "mechanics_events.head(2)"
   ]
  },
  {
   "cell_type": "markdown",
   "metadata": {},
   "source": [
    "### Calculate weight for each mechanic for every session (or user)"
   ]
  },
  {
   "cell_type": "markdown",
   "metadata": {},
   "source": [
    "Let's calculate the weights for each mechanic for each session.\n",
    "\n",
    "The higher the weight of the mechanics in a session, the more likely the user wanted to use it in that session.\n",
    "\n",
    "The maximum weight is 1. In one session there can be several mechanics with more weight."
   ]
  },
  {
   "cell_type": "code",
   "execution_count": null,
   "metadata": {},
   "outputs": [],
   "source": [
    "session_stats = analysis.calc_all_norm_mech(data, mechanics_events, 'session')"
   ]
  },
  {
   "cell_type": "markdown",
   "metadata": {},
   "source": [
    "The result table includes user id, session number, number of events per session, time of the first and last events and duration in seconds."
   ]
  },
  {
   "cell_type": "code",
   "execution_count": null,
   "metadata": {},
   "outputs": [],
   "source": [
    "session_stats.head(2)"
   ]
  },
  {
   "cell_type": "markdown",
   "metadata": {},
   "source": [
    "# Cluster sessions"
   ]
  },
  {
   "cell_type": "markdown",
   "metadata": {},
   "source": [
    "## hdbscan"
   ]
  },
  {
   "cell_type": "markdown",
   "metadata": {},
   "source": [
    "We can use collected statistics for the sessions for clustering\n",
    "\n",
    "As a clustering algorithm, we use hdbscan."
   ]
  },
  {
   "cell_type": "code",
   "execution_count": null,
   "metadata": {},
   "outputs": [],
   "source": [
    "clust = hdbscan.HDBSCAN(min_cluster_size=int(len(session_stats)*0.01))"
   ]
  },
  {
   "cell_type": "markdown",
   "metadata": {},
   "source": [
    "Before clustering, we delete the first 5 user sessions, because our new users try different mechanics in their first sessions.\n",
    "\n",
    "If you are not researching new users, you can skip this step."
   ]
  },
  {
   "cell_type": "code",
   "execution_count": null,
   "metadata": {},
   "outputs": [],
   "source": [
    "# for every user_pseudo_id\n",
    "# delete first five user's sessions\n",
    "\n",
    "session_stats.sort_values('session')\n",
    "session_stats.loc[:, 'user_sess_num'] = 1\n",
    "session_stats['user_sess_num'] = session_stats \\\n",
    "    .sort_values('session') \\\n",
    "    .groupby('user_pseudo_id').user_sess_num.cumsum()\n",
    "session_stats = session_stats.loc[session_stats.user_sess_num > 5, :]"
   ]
  },
  {
   "cell_type": "markdown",
   "metadata": {},
   "source": [
    "Run the clustering algorithm and get the results.\n",
    "\n",
    "Its main advantage is there is no need to specify the number of clusters because it will choose the most suitable itself."
   ]
  },
  {
   "cell_type": "code",
   "execution_count": null,
   "metadata": {},
   "outputs": [],
   "source": [
    "cols = mechanics_events[mechanics_events['mode'] == 'session'].mechanics.unique()\n",
    "session_vecs = session_stats.loc[:, cols].values"
   ]
  },
  {
   "cell_type": "code",
   "execution_count": null,
   "metadata": {},
   "outputs": [],
   "source": [
    "# clustering\n",
    "clusters = clust.fit_predict(session_vecs)"
   ]
  },
  {
   "cell_type": "markdown",
   "metadata": {},
   "source": [
    "Add the cluster number for session to the additional column."
   ]
  },
  {
   "cell_type": "code",
   "execution_count": null,
   "metadata": {},
   "outputs": [],
   "source": [
    "session_stats.loc[:, 'sess_clust'] = clusters"
   ]
  },
  {
   "cell_type": "markdown",
   "metadata": {},
   "source": [
    "The following command shows the number of sessions in each cluster."
   ]
  },
  {
   "cell_type": "code",
   "execution_count": null,
   "metadata": {},
   "outputs": [],
   "source": [
    "session_stats.sess_clust.value_counts()"
   ]
  },
  {
   "cell_type": "markdown",
   "metadata": {},
   "source": [
    "## Visualize graphs"
   ]
  },
  {
   "cell_type": "markdown",
   "metadata": {},
   "source": [
    "Now we can build a graph of events."
   ]
  },
  {
   "cell_type": "code",
   "execution_count": null,
   "metadata": {},
   "outputs": [],
   "source": [
    "data.loc[:, 'event_timestamp'] = data.event_timestamp.astype(int) // 10**6\n",
    "data = preparing.add_first_and_last_events(data, first_event_name='first_event', last_event_name='last_event')"
   ]
  },
  {
   "cell_type": "markdown",
   "metadata": {},
   "source": [
    "### Session"
   ]
  },
  {
   "cell_type": "markdown",
   "metadata": {},
   "source": [
    "We can do this for one session for a single user "
   ]
  },
  {
   "cell_type": "code",
   "execution_count": null,
   "metadata": {},
   "outputs": [],
   "source": [
    "selected_session = 20\n",
    "selected_session_data = data[data.session == selected_session]"
   ]
  },
  {
   "cell_type": "code",
   "execution_count": null,
   "metadata": {},
   "outputs": [],
   "source": [
    "visualization.tree_selectors.print_checkboxes(selected_session_data, checkbox_id='1', is_checked=True)"
   ]
  },
  {
   "cell_type": "code",
   "execution_count": null,
   "metadata": {},
   "outputs": [],
   "source": [
    "agg_data_session = analysis.get_all_agg(\n",
    "    selected_session_data.loc[selected_session_data.event_name.isin(result_filter), :], \n",
    "    ['trans_count'])\n",
    "\n",
    "visualization.plot.plot_graph(agg_data_session, 'trans_count', settings={}, \n",
    "                              layout=visualization.layouts.sugiyama_layout)"
   ]
  },
  {
   "cell_type": "markdown",
   "metadata": {},
   "source": [
    "### Cluster"
   ]
  },
  {
   "cell_type": "markdown",
   "metadata": {},
   "source": [
    "Or for different sessions and different users within the same cluster"
   ]
  },
  {
   "cell_type": "code",
   "execution_count": null,
   "metadata": {},
   "outputs": [],
   "source": [
    "selected_cluster = 2\n",
    "selected_cluster_data = data[data.session.isin(session_stats[session_stats.sess_clust == selected_cluster].session)]"
   ]
  },
  {
   "cell_type": "code",
   "execution_count": null,
   "metadata": {
    "scrolled": true
   },
   "outputs": [],
   "source": [
    "visualization.tree_selectors.print_checkboxes(selected_cluster_data, checkbox_id='2', is_checked=True)"
   ]
  },
  {
   "cell_type": "code",
   "execution_count": null,
   "metadata": {},
   "outputs": [],
   "source": [
    "agg_data_cluster = analysis.get_all_agg(\n",
    "    selected_cluster_data.loc[selected_cluster_data.event_name.isin(result_filter), :], \n",
    "    ['trans_count'])\n",
    "\n",
    "visualization.plot.plot_graph(agg_data_cluster, 'trans_count', settings={}, \n",
    "                              layout=visualization.layouts.sugiyama_layout)"
   ]
  },
  {
   "cell_type": "code",
   "execution_count": null,
   "metadata": {},
   "outputs": [],
   "source": []
  }
 ],
 "metadata": {
  "kernelspec": {
   "display_name": "ret_py36",
   "language": "python",
   "name": "ret_py36"
  },
  "language_info": {
   "codemirror_mode": {
    "name": "ipython",
    "version": 3
   },
   "file_extension": ".py",
   "mimetype": "text/x-python",
   "name": "python",
   "nbconvert_exporter": "python",
   "pygments_lexer": "ipython3",
   "version": "3.6.7"
  }
 },
 "nbformat": 4,
 "nbformat_minor": 2
}
