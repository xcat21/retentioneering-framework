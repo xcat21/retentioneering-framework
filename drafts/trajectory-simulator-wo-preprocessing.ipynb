{
 "cells": [
  {
   "cell_type": "markdown",
   "metadata": {},
   "source": [
    "# Simulation"
   ]
  },
  {
   "cell_type": "code",
   "execution_count": null,
   "metadata": {},
   "outputs": [],
   "source": [
    "import numpy as np\n",
    "\n",
    "class Agent:\n",
    "    def __init__(self, probs, user_type, sleepage, target_event_list=['lost', 'passed'], user_id=None):\n",
    "        self._mean_time = probs.loc['dt_mean']\n",
    "        self._std_time = probs.loc['dt_std']\n",
    "        accums = list(filter(lambda x: 'accumulated' in x.lower(), probs.index.values))\n",
    "        self._probs = probs.drop(['dt_mean', 'dt_std'] + accums)\n",
    "        self._probs = self._probs / self._probs.sum(0)\n",
    "        self._state = 1\n",
    "        self.target_event_list = target_event_list\n",
    "        self.user_type = user_type\n",
    "        if user_id is None:\n",
    "            user_id = np.random.randint(1e12)\n",
    "        self.user_id = user_id\n",
    "        self._track = pd.DataFrame(columns=['user_pseudo_id', 'event_timestamp', 'event_name', 'user_type'])\n",
    "        self._current_time = 0\n",
    "        self._sleepage = sleepage\n",
    "        self._sleepage.index = self._sleepage['sleep_type'].values\n",
    "        self._sleepage = self._sleepage.loc[:, ['mean_', 'std_']]\n",
    "        \n",
    "    def _calc_sleep(self, sleep_type):\n",
    "        mu, std = self._sleepage.loc[sleep_type].values\n",
    "        if np.isnan(mu):\n",
    "            mu = 1e-6\n",
    "            std = 1e-2\n",
    "        return np.exp(np.random.normal(loc=mu, scale=std, size=1)[0])\n",
    "\n",
    "    def _step(self):\n",
    "        probs = self._probs.loc[:, str(self._state)]\n",
    "        vals = probs.index\n",
    "        probs = probs.values\n",
    "        probs = np.where(np.isnan(probs), 0, probs)\n",
    "        if probs.sum() == 0:\n",
    "            return self.target_event_list[0]\n",
    "        next_step = np.random.choice(vals, p=probs)\n",
    "        return next_step\n",
    "    \n",
    "    def _delay(self):\n",
    "        mu = self._mean_time.loc[str(self._state)]\n",
    "        sigma = self._std_time.loc[str(self._state)]\n",
    "        time = np.random.normal(loc=mu, scale=sigma, size=1)[0]\n",
    "        return np.exp(time + 1e-6)\n",
    "    \n",
    "    def simulate(self):\n",
    "        while (self._state != -1) and (self._state < self._probs.shape[1]):\n",
    "            self._current_time += self._delay()\n",
    "            event = self._step()\n",
    "            if event not in self.target_event_list:\n",
    "                self._state += 1\n",
    "            else:\n",
    "                self._state = -1\n",
    "            if 'sleep' in event:\n",
    "                self._current_time += self._calc_sleep(event)\n",
    "                continue\n",
    "            self._track = self._track.append({\n",
    "                'user_pseudo_id': self.user_id,\n",
    "                'event_timestamp': self._current_time,\n",
    "                'event_name': event,\n",
    "                'user_type': self.user_type\n",
    "            }, ignore_index=True)\n",
    "        return self._track"
   ]
  },
  {
   "cell_type": "code",
   "execution_count": null,
   "metadata": {},
   "outputs": [],
   "source": [
    "class Simulator:\n",
    "    def __init__(self, path, pops=None):\n",
    "        self._population = self.create_population(path, pops)\n",
    "        self.clickstream = pd.DataFrame(columns=['user_pseudo_id', 'event_timestamp', 'event_name', 'user_type'])\n",
    "    \n",
    "    def create_population(self, path, pops=None):\n",
    "        dyn_mat = os.path.join(path, 'dynamic_matrix')\n",
    "        stats = os.path.join(path, 'stats')\n",
    "        files = os.listdir(dyn_mat)\n",
    "        agents = []\n",
    "        for idx, file in enumerate(sorted(files)):\n",
    "            agent_params = pd.read_csv(os.path.join(stats, file))\n",
    "            if pops is None:\n",
    "                agents_num = agent_params.users_count.iloc[0]\n",
    "            else:\n",
    "                agents_num = pops[idx]\n",
    "            clus_dyn = pd.read_csv(os.path.join(dyn_mat, file), index_col=[0])\n",
    "            for i in range(agents_num):\n",
    "                agents.append(Agent(clus_dyn, file.split('_')[1].split('.')[0], agent_params))\n",
    "        return agents\n",
    "    \n",
    "    def simulate(self):\n",
    "        for agent in self._population:\n",
    "            self.clickstream = self.clickstream.append(agent.simulate())\n",
    "        return self.clickstream"
   ]
  },
  {
   "cell_type": "code",
   "execution_count": null,
   "metadata": {
    "scrolled": false
   },
   "outputs": [],
   "source": [
    "sim = Simulator(path, [5] * 10)\n",
    "clicks = sim.simulate()"
   ]
  },
  {
   "cell_type": "code",
   "execution_count": null,
   "metadata": {},
   "outputs": [],
   "source": [
    "clicks.head()"
   ]
  },
  {
   "cell_type": "code",
   "execution_count": null,
   "metadata": {},
   "outputs": [],
   "source": [
    "analysis.get_desc_table(clicks[clicks.user_type == '-1'], settings={});"
   ]
  },
  {
   "cell_type": "code",
   "execution_count": null,
   "metadata": {},
   "outputs": [],
   "source": [
    "import seaborn as sns\n",
    "sns.mpl.pyplot.rcParams['figure.figsize'] = [20, 10]\n",
    "sns.heatmap(pd.read_csv('./experiments/track-simulator/dynamic_matrix/cluster_-1.csv',\n",
    "                        index_col=0).drop(['dt_mean', 'dt_std']), annot=True, cmap=\"YlGnBu\")"
   ]
  },
  {
   "cell_type": "code",
   "execution_count": null,
   "metadata": {},
   "outputs": [],
   "source": []
  }
 ],
 "metadata": {
  "kernelspec": {
   "display_name": "Python 3",
   "language": "python",
   "name": "python3"
  },
  "language_info": {
   "codemirror_mode": {
    "name": "ipython",
    "version": 3
   },
   "file_extension": ".py",
   "mimetype": "text/x-python",
   "name": "python",
   "nbconvert_exporter": "python",
   "pygments_lexer": "ipython3",
   "version": "3.6.5"
  }
 },
 "nbformat": 4,
 "nbformat_minor": 2
}
