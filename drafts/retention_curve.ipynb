{
 "cells": [
  {
   "cell_type": "markdown",
   "metadata": {},
   "source": [
    "# Retention curve"
   ]
  },
  {
   "cell_type": "markdown",
   "metadata": {},
   "source": [
    "This notebook should be used to plot retention curves for users. You shoud have users history for DAYS days with at least 2 events = one to detect user's activity (\"active\") in app and another one (\"first_open\") to detect first users appear in app.\n",
    "At any time you will see share of users which will have activity in next DAYS in the app.\n",
    "In this example you will train at users with usage history 20 days."
   ]
  },
  {
   "cell_type": "code",
   "execution_count": 1,
   "metadata": {},
   "outputs": [],
   "source": [
    "import pandas as pd\n",
    "import numpy as np\n",
    "import seaborn as sns\n",
    "import datetime\n",
    "import matplotlib as mpl\n",
    "from matplotlib import pyplot as plt\n",
    "sns.set()"
   ]
  },
  {
   "cell_type": "markdown",
   "metadata": {},
   "source": [
    "Data download and preprocessing - new time and data columns, processing  timezone."
   ]
  },
  {
   "cell_type": "code",
   "execution_count": 2,
   "metadata": {},
   "outputs": [],
   "source": [
    "DAYS = 5;\n",
    "df = pd.read_csv(\"user_data_example.csv\") "
   ]
  },
  {
   "cell_type": "code",
   "execution_count": 3,
   "metadata": {},
   "outputs": [],
   "source": [
    "df.reset_index(drop=True, inplace = True)\n",
    "time = (df['event_timestamp']/(1000000.)).apply(datetime.datetime.fromtimestamp)\n",
    "hour_time = time.apply(lambda x: x.replace(microsecond=0,second=0,minute=0))\n",
    "df['date_hour'] = hour_time\n",
    "df['date_hour'] = df['date_hour'] + datetime.timedelta(hours = 3)"
   ]
  },
  {
   "cell_type": "code",
   "execution_count": 4,
   "metadata": {},
   "outputs": [],
   "source": [
    "date_tab = df['date_hour'].apply(datetime.datetime.date)\n",
    "df['date'] = date_tab"
   ]
  },
  {
   "cell_type": "markdown",
   "metadata": {},
   "source": [
    "Group usage by hours and dates."
   ]
  },
  {
   "cell_type": "code",
   "execution_count": 5,
   "metadata": {},
   "outputs": [],
   "source": [
    "user_hour = df.groupby(['user_pseudo_id','date_hour']).first()\n",
    "user_hour.reset_index(inplace=True, drop=False)\n",
    "user_hour.sort_values('date_hour',inplace=True);\n",
    "\n",
    "users_per_day = df.groupby('user_pseudo_id')['date'].first().reset_index()\n",
    "users_per_day_total = users_per_day.date.value_counts()"
   ]
  },
  {
   "cell_type": "code",
   "execution_count": 8,
   "metadata": {},
   "outputs": [],
   "source": [
    "users_per_hour = df.groupby('user_pseudo_id')['date_hour'].first().reset_index()"
   ]
  },
  {
   "cell_type": "markdown",
   "metadata": {},
   "source": [
    "Select user groups, which download app in certain date (determine by event = first_open)"
   ]
  },
  {
   "cell_type": "markdown",
   "metadata": {},
   "source": [
    "You can select how do you want to group users - by hours or by date"
   ]
  },
  {
   "cell_type": "code",
   "execution_count": 23,
   "metadata": {},
   "outputs": [],
   "source": [
    "#dates = users_per_day.date.unique()\n",
    "dates = users_per_hour.date_hour.unique()\n",
    "dates.sort()"
   ]
  },
  {
   "cell_type": "code",
   "execution_count": 15,
   "metadata": {},
   "outputs": [],
   "source": [
    "users_download = pd.DataFrame([])\n",
    "for t in (dates):\n",
    "    users_download_ = (df[ ( df['event_name'] == 'first_open')& (df['date_hour'] == t) ].\\\n",
    "                       drop_duplicates('user_pseudo_id')['user_pseudo_id']).reset_index(drop=True) \n",
    "    users_download = pd.concat([users_download, users_download_ ], axis=1, sort=False, ignore_index=True)"
   ]
  },
  {
   "cell_type": "markdown",
   "metadata": {},
   "source": [
    "Create tables to save results"
   ]
  },
  {
   "cell_type": "code",
   "execution_count": 18,
   "metadata": {},
   "outputs": [],
   "source": [
    "start_date = user_hour['date_hour'].min() \n",
    "end_date = user_hour['date_hour'].max()\n",
    "\n",
    "total_hours = (end_date - start_date).total_seconds()//3600\n",
    "delta_hours = []\n",
    "\n",
    "for t in range(int(total_hours)+1):\n",
    "    delta_hours.append(start_date+t*datetime.timedelta(hours = 1))\n",
    "for t in range(len(dates)):\n",
    "    dates[t] = pd.Timestamp(dates[t])    "
   ]
  },
  {
   "cell_type": "markdown",
   "metadata": {},
   "source": [
    "Calculate retention curves for different users cohorts."
   ]
  },
  {
   "cell_type": "code",
   "execution_count": 19,
   "metadata": {},
   "outputs": [],
   "source": [
    "df_users_events = pd.DataFrame(columns = dates, index = delta_hours)"
   ]
  },
  {
   "cell_type": "code",
   "execution_count": 57,
   "metadata": {},
   "outputs": [],
   "source": [
    "for n in range(len(dates)):\n",
    "    df_1day_users = user_hour[user_hour['user_pseudo_id'].isin(users_download.iloc[:,n].dropna())]    \n",
    "    num_users = []\n",
    "    df_1day_users = df_1day_users.drop(df_1day_users[( df_1day_users['date_hour'] < pd.to_datetime(dates[n]) )].index)\n",
    "    df_1day_users = df_1day_users.drop(df_1day_users[( df_1day_users['date_hour'] > (pd.to_datetime(dates[n]) + datetime.timedelta(days = DAYS)))].index)\n",
    "    for t in (delta_hours):\n",
    "            users_each_day = df_1day_users[((df_1day_users['date_hour'] > t) )].drop_duplicates('user_pseudo_id')\n",
    "            users_each_day = users_each_day['user_pseudo_id'].reset_index(drop=True)\n",
    "            num_users.append(len(users_each_day))\n",
    "    df_users_events.iloc[:,n] = num_users"
   ]
  },
  {
   "cell_type": "markdown",
   "metadata": {},
   "source": [
    "Create table to allign users data"
   ]
  },
  {
   "cell_type": "code",
   "execution_count": 71,
   "metadata": {},
   "outputs": [],
   "source": [
    "df_users_events = df_users_events.iloc[:,1:]"
   ]
  },
  {
   "cell_type": "code",
   "execution_count": 72,
   "metadata": {},
   "outputs": [],
   "source": [
    "y = df_users_events.iloc[:,:].copy()\n",
    "y.reset_index(inplace = True, drop = True);\n",
    "y[:] = 0"
   ]
  },
  {
   "cell_type": "code",
   "execution_count": 74,
   "metadata": {},
   "outputs": [],
   "source": [
    "for k in range(df_users_events.shape[1]):\n",
    "    y.iloc[:,k] = df_users_events.iloc[k:,k].reset_index(drop = True)"
   ]
  },
  {
   "cell_type": "code",
   "execution_count": 77,
   "metadata": {},
   "outputs": [],
   "source": [
    "for k in range(df_users_events.shape[1]):\n",
    "    y.iloc[:,k] = y.iloc[:,k]/y.iloc[:,k].max()"
   ]
  },
  {
   "cell_type": "markdown",
   "metadata": {},
   "source": [
    "Plot retention curve"
   ]
  },
  {
   "cell_type": "code",
   "execution_count": 78,
   "metadata": {},
   "outputs": [
    {
     "data": {
      "image/png": "[encoded data removed]",
      "text/plain": [
       "<Figure size 1440x720 with 1 Axes>"
      ]
     },
     "metadata": {
      "needs_background": "light"
     },
     "output_type": "display_data"
    }
   ],
   "source": [
    "y = y.iloc[:,0:DAYS].apply(np.mean,axis = 1)\n",
    "x = np.arange(len(y));\n",
    "mpl.rc('xtick', labelsize=20);\n",
    "mpl.rc('ytick', labelsize=20);\n",
    "\n",
    "plt.figure(figsize=(20,10));\n",
    "\n",
    "plt.plot(x, y)\n",
    "plt.xticks(np.arange(0, len(y), step=15));"
   ]
  },
  {
   "cell_type": "code",
   "execution_count": null,
   "metadata": {},
   "outputs": [],
   "source": []
  }
 ],
 "metadata": {
  "kernelspec": {
   "display_name": "Python 3",
   "language": "python",
   "name": "python3"
  },
  "language_info": {
   "codemirror_mode": {
    "name": "ipython",
    "version": 3
   },
   "file_extension": ".py",
   "mimetype": "text/x-python",
   "name": "python",
   "nbconvert_exporter": "python",
   "pygments_lexer": "ipython3",
   "version": "3.6.5"
  }
 },
 "nbformat": 4,
 "nbformat_minor": 2
}
